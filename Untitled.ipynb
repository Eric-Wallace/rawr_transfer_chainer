{
 "cells": [
  {
   "cell_type": "code",
   "execution_count": 1,
   "metadata": {},
   "outputs": [
    {
     "name": "stdout",
     "output_type": "stream",
     "text": [
      "{\n",
      "  \"batchsize\": 64,\n",
      "  \"epoch\": 30,\n",
      "  \"gpu\": 0,\n",
      "  \"out\": \"result\",\n",
      "  \"unit\": 300,\n",
      "  \"layer\": 1,\n",
      "  \"dropout\": 0.4,\n",
      "  \"dataset\": \"imdb.binary\",\n",
      "  \"char_based\": false,\n",
      "  \"vocab_path\": \"/scratch0/shifeng/rawr_transfer/result/vocab.json\",\n",
      "  \"model_path\": \"/scratch0/shifeng/rawr_transfer/result/best_model.npz\",\n",
      "  \"n_class\": 2,\n",
      "  \"datetime\": \"2018-02-27 15:29:48.696679\"\n",
      "}\n"
     ]
    },
    {
     "name": "stderr",
     "output_type": "stream",
     "text": [
      "/scratch0/shifeng/anaconda3/lib/python3.6/site-packages/h5py/__init__.py:34: FutureWarning: Conversion of the second argument of issubdtype from `float` to `np.floating` is deprecated. In future, it will be treated as `np.float64 == np.dtype(float).type`.\n",
      "  from ._conv import register_converters as _register_converters\n"
     ]
    }
   ],
   "source": [
    "import json\n",
    "import os\n",
    "\n",
    "import chainer\n",
    "from chainer import training\n",
    "from chainer.training import extensions\n",
    "\n",
    "import nets\n",
    "from nlp_utils import convert_seq\n",
    "import text_datasets\n",
    "from rawr import Bunch\n",
    "\n",
    "with open('result/args.json') as f:\n",
    "    args = Bunch(json.load(f))\n",
    "print(json.dumps(args.__dict__, indent=2))"
   ]
  },
  {
   "cell_type": "code",
   "execution_count": 2,
   "metadata": {},
   "outputs": [
    {
     "name": "stdout",
     "output_type": "stream",
     "text": [
      "read imdb\n",
      "constract vocabulary based on frequency\n",
      "# train data: 25000\n",
      "# test  data: 25000\n",
      "# vocab: 20000\n",
      "# class: 2\n"
     ]
    }
   ],
   "source": [
    "# Load a dataset\n",
    "if args.dataset == 'dbpedia':\n",
    "    train, test, vocab = text_datasets.get_dbpedia(\n",
    "        char_based=args.char_based)\n",
    "elif args.dataset.startswith('imdb.'):\n",
    "    train, test, vocab = text_datasets.get_imdb(\n",
    "        fine_grained=args.dataset.endswith('.fine'),\n",
    "        char_based=args.char_based)\n",
    "elif args.dataset in ['TREC', 'stsa.binary', 'stsa.fine',\n",
    "                      'custrev', 'mpqa', 'rt-polarity', 'subj']:\n",
    "    train, test, vocab = text_datasets.get_other_text_dataset(\n",
    "        args.dataset, char_based=args.char_based)\n",
    "\n",
    "print('# train data: {}'.format(len(train)))\n",
    "print('# test  data: {}'.format(len(test)))\n",
    "print('# vocab: {}'.format(len(vocab)))\n",
    "n_class = len(set([int(d[1]) for d in train]))\n",
    "print('# class: {}'.format(n_class))"
   ]
  },
  {
   "cell_type": "code",
   "execution_count": 3,
   "metadata": {
    "collapsed": true
   },
   "outputs": [],
   "source": [
    "train_iter = chainer.iterators.SerialIterator(train, 20)\n",
    "test_iter = chainer.iterators.SerialIterator(test, 20,\n",
    "                                             repeat=False, shuffle=False)"
   ]
  },
  {
   "cell_type": "code",
   "execution_count": 5,
   "metadata": {},
   "outputs": [],
   "source": [
    "import importlib\n",
    "importlib.reload(nets)\n",
    "import nets\n",
    "# Setup a model\n",
    "model = nets.SingleMaxClassifier(n_layers=args.layer, n_vocab=len(vocab),\n",
    "                                 n_units=args.unit, n_class=n_class, \n",
    "                                 dropout=args.dropout)\n",
    "if args.gpu >= 0:\n",
    "    # Make a specified GPU current\n",
    "    chainer.backends.cuda.get_device_from_id(args.gpu).use()\n",
    "    model.to_gpu()  # Copy the model to the GPU"
   ]
  },
  {
   "cell_type": "code",
   "execution_count": 6,
   "metadata": {
    "collapsed": true
   },
   "outputs": [],
   "source": [
    "batch = next(train_iter)\n",
    "batch = convert_seq(batch, device=args.gpu, with_label=True)"
   ]
  }
 ],
 "metadata": {
  "kernelspec": {
   "display_name": "Python 3",
   "language": "python",
   "name": "python3"
  },
  "language_info": {
   "codemirror_mode": {
    "name": "ipython",
    "version": 3
   },
   "file_extension": ".py",
   "mimetype": "text/x-python",
   "name": "python",
   "nbconvert_exporter": "python",
   "pygments_lexer": "ipython3",
   "version": "3.6.1"
  }
 },
 "nbformat": 4,
 "nbformat_minor": 2
}
