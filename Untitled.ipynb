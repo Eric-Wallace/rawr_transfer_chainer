{
 "cells": [
  {
   "cell_type": "code",
   "execution_count": 5,
   "metadata": {
    "scrolled": true
   },
   "outputs": [
    {
     "name": "stdout",
     "output_type": "stream",
     "text": [
      "{\n",
      "  \"batchsize\": 64,\n",
      "  \"epoch\": 30,\n",
      "  \"gpu\": 0,\n",
      "  \"out\": \"result/imdb.binary\",\n",
      "  \"unit\": 300,\n",
      "  \"layer\": 1,\n",
      "  \"dropout\": 0.4,\n",
      "  \"dataset\": \"snli\",\n",
      "  \"char_based\": false,\n",
      "  \"vocab_path\": \"/fs/clip-ml/shifeng/rawr_transfer/result/vocab.json\",\n",
      "  \"n_class\": 2,\n",
      "  \"datetime\": \"2018-02-28 08:09:40.048870\"\n",
      "}\n"
     ]
    }
   ],
   "source": [
    "import json\n",
    "import os\n",
    "\n",
    "import chainer\n",
    "from chainer import training\n",
    "from chainer import functions as F\n",
    "from chainer.training import extensions\n",
    "\n",
    "import nets\n",
    "import text_datasets\n",
    "from rawr import Bunch\n",
    "from nlp_utils import convert_seq\n",
    "from nlp_utils import convert_snli_seq\n",
    "\n",
    "with open('result/args.json') as f:\n",
    "    args = Bunch(json.load(f))\n",
    "args.dataset = 'snli'\n",
    "print(json.dumps(args.__dict__, indent=2))"
   ]
  },
  {
   "cell_type": "code",
   "execution_count": 35,
   "metadata": {
    "collapsed": true
   },
   "outputs": [],
   "source": [
    "def get_snli(vocab=None, shrink=1, char_based=False):\n",
    "    snli_dir = os.path.join(DATA_DIR, 'snli_1.0')\n",
    "    if not os.path.exists(snli_dir):\n",
    "        download_snli()\n",
    "\n",
    "    print('read snli')\n",
    "    train = read_snli(snli_dir, 'train', shrink=shrink, char_based=char_based)\n",
    "    test = read_snli(snli_dir, 'dev', shrink=shrink, char_based=char_based)\n",
    "\n",
    "    if vocab is None:\n",
    "        print('construct vocabulary based on frequency')\n",
    "        train_premise = [(x, z) for x, y, z in train]\n",
    "        train_hypothesis = [(y, z) for x, y, z in train]\n",
    "        vocab = make_vocab(train_premise + train_hypothesis)\n",
    "\n",
    "    train = transform_snli_to_array(train, vocab)\n",
    "    test = transform_snli_to_array(test, vocab)\n",
    "\n",
    "    return train, test, vocab"
   ]
  },
  {
   "cell_type": "code",
   "execution_count": 36,
   "metadata": {},
   "outputs": [
    {
     "name": "stdout",
     "output_type": "stream",
     "text": [
      "read snli\n",
      "construct vocabulary based on frequency\n",
      "# train data: 550152\n",
      "# test  data: 10000\n",
      "# vocab: 20000\n",
      "# class: 3\n"
     ]
    }
   ],
   "source": [
    "train, test, vocab = get_snli(char_based=args.char_based)\n",
    "\n",
    "print('# train data: {}'.format(len(train)))\n",
    "print('# test  data: {}'.format(len(test)))\n",
    "print('# vocab: {}'.format(len(vocab)))\n",
    "n_class = len(set([int(d[2]) for d in train]))\n",
    "print('# class: {}'.format(n_class))"
   ]
  },
  {
   "cell_type": "code",
   "execution_count": 37,
   "metadata": {
    "collapsed": true
   },
   "outputs": [],
   "source": [
    "train_iter = chainer.iterators.SerialIterator(train, 20)\n",
    "test_iter = chainer.iterators.SerialIterator(test, 20,\n",
    "                                             repeat=False, shuffle=False)"
   ]
  },
  {
   "cell_type": "code",
   "execution_count": 38,
   "metadata": {
    "collapsed": true
   },
   "outputs": [],
   "source": [
    "import importlib\n",
    "importlib.reload(nets)\n",
    "import nets\n",
    "model = nets.DoubleMaxClassifier(n_layers=args.layer, n_vocab=len(vocab),\n",
    "                                 n_units=args.unit, n_class=n_class, \n",
    "                                 dropout=args.dropout)\n",
    "if args.gpu >= 0:\n",
    "    chainer.backends.cuda.get_device_from_id(args.gpu).use()\n",
    "    model.to_gpu()"
   ]
  },
  {
   "cell_type": "code",
   "execution_count": 39,
   "metadata": {
    "collapsed": true
   },
   "outputs": [],
   "source": [
    "batch = next(train_iter)\n",
    "batch = convert_snli_seq(batch, device=args.gpu, with_label=True)"
   ]
  },
  {
   "cell_type": "code",
   "execution_count": 40,
   "metadata": {
    "collapsed": true
   },
   "outputs": [],
   "source": [
    "ys = model.predict(batch['xs'])"
   ]
  },
  {
   "cell_type": "code",
   "execution_count": 41,
   "metadata": {},
   "outputs": [
    {
     "data": {
      "text/plain": [
       "(20, 3)"
      ]
     },
     "execution_count": 41,
     "metadata": {},
     "output_type": "execute_result"
    }
   ],
   "source": [
    "ys.shape"
   ]
  },
  {
   "cell_type": "code",
   "execution_count": null,
   "metadata": {
    "collapsed": true
   },
   "outputs": [],
   "source": []
  }
 ],
 "metadata": {
  "kernelspec": {
   "display_name": "Python 3",
   "language": "python",
   "name": "python3"
  },
  "language_info": {
   "codemirror_mode": {
    "name": "ipython",
    "version": 3
   },
   "file_extension": ".py",
   "mimetype": "text/x-python",
   "name": "python",
   "nbconvert_exporter": "python",
   "pygments_lexer": "ipython3",
   "version": "3.6.3"
  }
 },
 "nbformat": 4,
 "nbformat_minor": 2
}
